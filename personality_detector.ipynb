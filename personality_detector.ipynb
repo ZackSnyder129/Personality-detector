{
 "cells": [
  {
   "cell_type": "code",
   "execution_count": 1,
   "id": "fef73873",
   "metadata": {},
   "outputs": [],
   "source": [
    "#d51e94f4da938fdf5da66ceeeae29e89"
   ]
  },
  {
   "cell_type": "code",
   "execution_count": 82,
   "id": "6d15b772",
   "metadata": {},
   "outputs": [],
   "source": [
    "import pandas as pd\n",
    "import requests\n",
    "import numpy as np"
   ]
  },
  {
   "cell_type": "code",
   "execution_count": 83,
   "id": "e60cef39",
   "metadata": {},
   "outputs": [],
   "source": [
    "response=requests.get(\"https://newsdata.io/api/1/news?apikey=pub_149138beee42533dfe0f2314f6cdf41e14915&language=en\")"
   ]
  },
  {
   "cell_type": "code",
   "execution_count": 84,
   "id": "e44febf1",
   "metadata": {},
   "outputs": [],
   "source": [
    "df=pd.DataFrame(response.json()['results'])"
   ]
  },
  {
   "cell_type": "code",
   "execution_count": 85,
   "id": "b4e38457",
   "metadata": {},
   "outputs": [
    {
     "data": {
      "text/html": [
       "<div>\n",
       "<style scoped>\n",
       "    .dataframe tbody tr th:only-of-type {\n",
       "        vertical-align: middle;\n",
       "    }\n",
       "\n",
       "    .dataframe tbody tr th {\n",
       "        vertical-align: top;\n",
       "    }\n",
       "\n",
       "    .dataframe thead th {\n",
       "        text-align: right;\n",
       "    }\n",
       "</style>\n",
       "<table border=\"1\" class=\"dataframe\">\n",
       "  <thead>\n",
       "    <tr style=\"text-align: right;\">\n",
       "      <th></th>\n",
       "      <th>title</th>\n",
       "      <th>link</th>\n",
       "      <th>keywords</th>\n",
       "      <th>creator</th>\n",
       "      <th>video_url</th>\n",
       "      <th>description</th>\n",
       "      <th>content</th>\n",
       "      <th>pubDate</th>\n",
       "      <th>image_url</th>\n",
       "      <th>source_id</th>\n",
       "      <th>country</th>\n",
       "      <th>category</th>\n",
       "      <th>language</th>\n",
       "    </tr>\n",
       "  </thead>\n",
       "  <tbody>\n",
       "    <tr>\n",
       "      <th>0</th>\n",
       "      <td>Lenku hits at senator Seki for disparaging him...</td>\n",
       "      <td>https://www.the-star.co.ke/counties/rift-valle...</td>\n",
       "      <td>None</td>\n",
       "      <td>None</td>\n",
       "      <td>None</td>\n",
       "      <td>But Seki says the governor will have to toe th...</td>\n",
       "      <td>None</td>\n",
       "      <td>2022-12-23 09:40:47</td>\n",
       "      <td>None</td>\n",
       "      <td>thestarke</td>\n",
       "      <td>[kenya]</td>\n",
       "      <td>[top]</td>\n",
       "      <td>english</td>\n",
       "    </tr>\n",
       "    <tr>\n",
       "      <th>1</th>\n",
       "      <td>Holiday bus tickets escaping Bangkok close to ...</td>\n",
       "      <td>https://thethaiger.com/hot-news/tourism/holida...</td>\n",
       "      <td>[Tourism, Transport, bus tickets, Chiang Mai, ...</td>\n",
       "      <td>None</td>\n",
       "      <td>None</td>\n",
       "      <td>More than 90% of bus tickets heading out of Ba...</td>\n",
       "      <td>None</td>\n",
       "      <td>2022-12-23 09:40:42</td>\n",
       "      <td>None</td>\n",
       "      <td>thethaiger</td>\n",
       "      <td>[thailand]</td>\n",
       "      <td>[top]</td>\n",
       "      <td>english</td>\n",
       "    </tr>\n",
       "    <tr>\n",
       "      <th>2</th>\n",
       "      <td>Japan lawmaker says Taiwanese chipmaker TSMC i...</td>\n",
       "      <td>https://www.straitstimes.com/asia/east-asia/ja...</td>\n",
       "      <td>None</td>\n",
       "      <td>None</td>\n",
       "      <td>None</td>\n",
       "      <td>December 23, 2022 5:40 PMThe Taiwanese company...</td>\n",
       "      <td>None</td>\n",
       "      <td>2022-12-23 09:40:23</td>\n",
       "      <td>None</td>\n",
       "      <td>straitstimes</td>\n",
       "      <td>[singapore]</td>\n",
       "      <td>[top]</td>\n",
       "      <td>english</td>\n",
       "    </tr>\n",
       "    <tr>\n",
       "      <th>3</th>\n",
       "      <td>The Kremlin does not have information about th...</td>\n",
       "      <td>https://thenewsglory.com/the-kremlin-does-not-...</td>\n",
       "      <td>[World]</td>\n",
       "      <td>[The News Glory]</td>\n",
       "      <td>None</td>\n",
       "      <td>The site operates with the financial support o...</td>\n",
       "      <td>The site operates with the financial support o...</td>\n",
       "      <td>2022-12-23 09:39:01</td>\n",
       "      <td>None</td>\n",
       "      <td>thenewsglory</td>\n",
       "      <td>[india]</td>\n",
       "      <td>[world]</td>\n",
       "      <td>english</td>\n",
       "    </tr>\n",
       "    <tr>\n",
       "      <th>4</th>\n",
       "      <td>AHMEDNASIR calls out RUTO for excluding member...</td>\n",
       "      <td>https://kenyan-post.com/2022/12/ahmednasir-cal...</td>\n",
       "      <td>[Politics]</td>\n",
       "      <td>[Guru]</td>\n",
       "      <td>None</td>\n",
       "      <td>Friday, December 23, 2022-Renowned Nairobi law...</td>\n",
       "      <td>Friday, December 23, 2022-Renowned Nairobi law...</td>\n",
       "      <td>2022-12-23 09:38:45</td>\n",
       "      <td>None</td>\n",
       "      <td>kenyanpost</td>\n",
       "      <td>[kenya]</td>\n",
       "      <td>[top]</td>\n",
       "      <td>english</td>\n",
       "    </tr>\n",
       "    <tr>\n",
       "      <th>5</th>\n",
       "      <td>Govt to conduct across country Covid response ...</td>\n",
       "      <td>https://telanganatoday.com/govt-to-conduct-acr...</td>\n",
       "      <td>[India, News, COVID, Covid-19, Mock Drill]</td>\n",
       "      <td>[ANI]</td>\n",
       "      <td>None</td>\n",
       "      <td>The Union Ministry of Health advised States on...</td>\n",
       "      <td>New Delhi: A mock drill to test the Covid emer...</td>\n",
       "      <td>2022-12-23 09:38:37</td>\n",
       "      <td>None</td>\n",
       "      <td>telanganatoday</td>\n",
       "      <td>[india]</td>\n",
       "      <td>[top]</td>\n",
       "      <td>english</td>\n",
       "    </tr>\n",
       "    <tr>\n",
       "      <th>6</th>\n",
       "      <td>TBMM Dışişleri Komisyonu Başkanı Kılıç, İsveç'...</td>\n",
       "      <td>https://www.aa.com.tr/tr/guncel/tbmm-disisleri...</td>\n",
       "      <td>None</td>\n",
       "      <td>None</td>\n",
       "      <td>None</td>\n",
       "      <td>TBMM Dışişleri Komisyonu Başkanı Kılıç, \"Bizim...</td>\n",
       "      <td>None</td>\n",
       "      <td>2022-12-23 09:38:36</td>\n",
       "      <td>None</td>\n",
       "      <td>aa_tr</td>\n",
       "      <td>[turkey]</td>\n",
       "      <td>[top]</td>\n",
       "      <td>english</td>\n",
       "    </tr>\n",
       "    <tr>\n",
       "      <th>7</th>\n",
       "      <td>Traders express concern over low patronage of ...</td>\n",
       "      <td>https://newsghana.com.gh/traders-express-conce...</td>\n",
       "      <td>[Business]</td>\n",
       "      <td>[GNA]</td>\n",
       "      <td>None</td>\n",
       "      <td>News Ghana, Latest Updates and Breaking News o...</td>\n",
       "      <td>News Ghana, Latest Updates and Breaking News o...</td>\n",
       "      <td>2022-12-23 09:38:20</td>\n",
       "      <td>None</td>\n",
       "      <td>newsghana</td>\n",
       "      <td>[ghana]</td>\n",
       "      <td>[top]</td>\n",
       "      <td>english</td>\n",
       "    </tr>\n",
       "    <tr>\n",
       "      <th>8</th>\n",
       "      <td>Ruto appoints ex-Transport CS Michael Kamau NH...</td>\n",
       "      <td>https://www.k24tv.co.ke/news/kamau-gets-new-jo...</td>\n",
       "      <td>[News]</td>\n",
       "      <td>[Evans Maritim]</td>\n",
       "      <td>None</td>\n",
       "      <td>President William Ruto has appointed former Tr...</td>\n",
       "      <td>President William Ruto has appointed former Tr...</td>\n",
       "      <td>2022-12-23 09:38:11</td>\n",
       "      <td>None</td>\n",
       "      <td>k24tv</td>\n",
       "      <td>[kenya]</td>\n",
       "      <td>[top]</td>\n",
       "      <td>english</td>\n",
       "    </tr>\n",
       "    <tr>\n",
       "      <th>9</th>\n",
       "      <td>Japan warns of dangerous white Christmas as he...</td>\n",
       "      <td>https://www.straitstimes.com/asia/east-asia/ja...</td>\n",
       "      <td>None</td>\n",
       "      <td>None</td>\n",
       "      <td>None</td>\n",
       "      <td>December 23, 2022 5:36 PMThose in regions wher...</td>\n",
       "      <td>None</td>\n",
       "      <td>2022-12-23 09:36:46</td>\n",
       "      <td>None</td>\n",
       "      <td>straitstimes</td>\n",
       "      <td>[singapore]</td>\n",
       "      <td>[top]</td>\n",
       "      <td>english</td>\n",
       "    </tr>\n",
       "  </tbody>\n",
       "</table>\n",
       "</div>"
      ],
      "text/plain": [
       "                                               title  \\\n",
       "0  Lenku hits at senator Seki for disparaging him...   \n",
       "1  Holiday bus tickets escaping Bangkok close to ...   \n",
       "2  Japan lawmaker says Taiwanese chipmaker TSMC i...   \n",
       "3  The Kremlin does not have information about th...   \n",
       "4  AHMEDNASIR calls out RUTO for excluding member...   \n",
       "5  Govt to conduct across country Covid response ...   \n",
       "6  TBMM Dışişleri Komisyonu Başkanı Kılıç, İsveç'...   \n",
       "7  Traders express concern over low patronage of ...   \n",
       "8  Ruto appoints ex-Transport CS Michael Kamau NH...   \n",
       "9  Japan warns of dangerous white Christmas as he...   \n",
       "\n",
       "                                                link  \\\n",
       "0  https://www.the-star.co.ke/counties/rift-valle...   \n",
       "1  https://thethaiger.com/hot-news/tourism/holida...   \n",
       "2  https://www.straitstimes.com/asia/east-asia/ja...   \n",
       "3  https://thenewsglory.com/the-kremlin-does-not-...   \n",
       "4  https://kenyan-post.com/2022/12/ahmednasir-cal...   \n",
       "5  https://telanganatoday.com/govt-to-conduct-acr...   \n",
       "6  https://www.aa.com.tr/tr/guncel/tbmm-disisleri...   \n",
       "7  https://newsghana.com.gh/traders-express-conce...   \n",
       "8  https://www.k24tv.co.ke/news/kamau-gets-new-jo...   \n",
       "9  https://www.straitstimes.com/asia/east-asia/ja...   \n",
       "\n",
       "                                            keywords           creator  \\\n",
       "0                                               None              None   \n",
       "1  [Tourism, Transport, bus tickets, Chiang Mai, ...              None   \n",
       "2                                               None              None   \n",
       "3                                            [World]  [The News Glory]   \n",
       "4                                         [Politics]            [Guru]   \n",
       "5         [India, News, COVID, Covid-19, Mock Drill]             [ANI]   \n",
       "6                                               None              None   \n",
       "7                                         [Business]             [GNA]   \n",
       "8                                             [News]   [Evans Maritim]   \n",
       "9                                               None              None   \n",
       "\n",
       "  video_url                                        description  \\\n",
       "0      None  But Seki says the governor will have to toe th...   \n",
       "1      None  More than 90% of bus tickets heading out of Ba...   \n",
       "2      None  December 23, 2022 5:40 PMThe Taiwanese company...   \n",
       "3      None  The site operates with the financial support o...   \n",
       "4      None  Friday, December 23, 2022-Renowned Nairobi law...   \n",
       "5      None  The Union Ministry of Health advised States on...   \n",
       "6      None  TBMM Dışişleri Komisyonu Başkanı Kılıç, \"Bizim...   \n",
       "7      None  News Ghana, Latest Updates and Breaking News o...   \n",
       "8      None  President William Ruto has appointed former Tr...   \n",
       "9      None  December 23, 2022 5:36 PMThose in regions wher...   \n",
       "\n",
       "                                             content              pubDate  \\\n",
       "0                                               None  2022-12-23 09:40:47   \n",
       "1                                               None  2022-12-23 09:40:42   \n",
       "2                                               None  2022-12-23 09:40:23   \n",
       "3  The site operates with the financial support o...  2022-12-23 09:39:01   \n",
       "4  Friday, December 23, 2022-Renowned Nairobi law...  2022-12-23 09:38:45   \n",
       "5  New Delhi: A mock drill to test the Covid emer...  2022-12-23 09:38:37   \n",
       "6                                               None  2022-12-23 09:38:36   \n",
       "7  News Ghana, Latest Updates and Breaking News o...  2022-12-23 09:38:20   \n",
       "8  President William Ruto has appointed former Tr...  2022-12-23 09:38:11   \n",
       "9                                               None  2022-12-23 09:36:46   \n",
       "\n",
       "  image_url       source_id      country category language  \n",
       "0      None       thestarke      [kenya]    [top]  english  \n",
       "1      None      thethaiger   [thailand]    [top]  english  \n",
       "2      None    straitstimes  [singapore]    [top]  english  \n",
       "3      None    thenewsglory      [india]  [world]  english  \n",
       "4      None      kenyanpost      [kenya]    [top]  english  \n",
       "5      None  telanganatoday      [india]    [top]  english  \n",
       "6      None           aa_tr     [turkey]    [top]  english  \n",
       "7      None       newsghana      [ghana]    [top]  english  \n",
       "8      None           k24tv      [kenya]    [top]  english  \n",
       "9      None    straitstimes  [singapore]    [top]  english  "
      ]
     },
     "execution_count": 85,
     "metadata": {},
     "output_type": "execute_result"
    }
   ],
   "source": [
    "df"
   ]
  },
  {
   "cell_type": "code",
   "execution_count": 86,
   "id": "7c9589db",
   "metadata": {},
   "outputs": [
    {
     "data": {
      "text/plain": [
       "title           0\n",
       "link            0\n",
       "keywords        4\n",
       "creator         5\n",
       "video_url      10\n",
       "description     0\n",
       "content         5\n",
       "pubDate         0\n",
       "image_url      10\n",
       "source_id       0\n",
       "country         0\n",
       "category        0\n",
       "language        0\n",
       "dtype: int64"
      ]
     },
     "execution_count": 86,
     "metadata": {},
     "output_type": "execute_result"
    }
   ],
   "source": [
    "df.isnull().sum()"
   ]
  },
  {
   "cell_type": "code",
   "execution_count": 87,
   "id": "f1897b55",
   "metadata": {},
   "outputs": [
    {
     "name": "stdout",
     "output_type": "stream",
     "text": [
      "<class 'pandas.core.frame.DataFrame'>\n",
      "RangeIndex: 10 entries, 0 to 9\n",
      "Data columns (total 13 columns):\n",
      " #   Column       Non-Null Count  Dtype \n",
      "---  ------       --------------  ----- \n",
      " 0   title        10 non-null     object\n",
      " 1   link         10 non-null     object\n",
      " 2   keywords     6 non-null      object\n",
      " 3   creator      5 non-null      object\n",
      " 4   video_url    0 non-null      object\n",
      " 5   description  10 non-null     object\n",
      " 6   content      5 non-null      object\n",
      " 7   pubDate      10 non-null     object\n",
      " 8   image_url    0 non-null      object\n",
      " 9   source_id    10 non-null     object\n",
      " 10  country      10 non-null     object\n",
      " 11  category     10 non-null     object\n",
      " 12  language     10 non-null     object\n",
      "dtypes: object(13)\n",
      "memory usage: 1.1+ KB\n"
     ]
    }
   ],
   "source": [
    "df.info()"
   ]
  },
  {
   "cell_type": "code",
   "execution_count": 88,
   "id": "bd7f7254",
   "metadata": {},
   "outputs": [
    {
     "data": {
      "text/plain": [
       "(10, 13)"
      ]
     },
     "execution_count": 88,
     "metadata": {},
     "output_type": "execute_result"
    }
   ],
   "source": [
    "df.shape"
   ]
  },
  {
   "cell_type": "code",
   "execution_count": 89,
   "id": "28d197f2",
   "metadata": {},
   "outputs": [],
   "source": [
    "df=df[['title','description']]"
   ]
  },
  {
   "cell_type": "code",
   "execution_count": 90,
   "id": "1efb507c",
   "metadata": {},
   "outputs": [
    {
     "data": {
      "text/html": [
       "<div>\n",
       "<style scoped>\n",
       "    .dataframe tbody tr th:only-of-type {\n",
       "        vertical-align: middle;\n",
       "    }\n",
       "\n",
       "    .dataframe tbody tr th {\n",
       "        vertical-align: top;\n",
       "    }\n",
       "\n",
       "    .dataframe thead th {\n",
       "        text-align: right;\n",
       "    }\n",
       "</style>\n",
       "<table border=\"1\" class=\"dataframe\">\n",
       "  <thead>\n",
       "    <tr style=\"text-align: right;\">\n",
       "      <th></th>\n",
       "      <th>title</th>\n",
       "      <th>description</th>\n",
       "    </tr>\n",
       "  </thead>\n",
       "  <tbody>\n",
       "    <tr>\n",
       "      <th>0</th>\n",
       "      <td>Lenku hits at senator Seki for disparaging him...</td>\n",
       "      <td>But Seki says the governor will have to toe th...</td>\n",
       "    </tr>\n",
       "    <tr>\n",
       "      <th>1</th>\n",
       "      <td>Holiday bus tickets escaping Bangkok close to ...</td>\n",
       "      <td>More than 90% of bus tickets heading out of Ba...</td>\n",
       "    </tr>\n",
       "    <tr>\n",
       "      <th>2</th>\n",
       "      <td>Japan lawmaker says Taiwanese chipmaker TSMC i...</td>\n",
       "      <td>December 23, 2022 5:40 PMThe Taiwanese company...</td>\n",
       "    </tr>\n",
       "    <tr>\n",
       "      <th>3</th>\n",
       "      <td>The Kremlin does not have information about th...</td>\n",
       "      <td>The site operates with the financial support o...</td>\n",
       "    </tr>\n",
       "    <tr>\n",
       "      <th>4</th>\n",
       "      <td>AHMEDNASIR calls out RUTO for excluding member...</td>\n",
       "      <td>Friday, December 23, 2022-Renowned Nairobi law...</td>\n",
       "    </tr>\n",
       "    <tr>\n",
       "      <th>5</th>\n",
       "      <td>Govt to conduct across country Covid response ...</td>\n",
       "      <td>The Union Ministry of Health advised States on...</td>\n",
       "    </tr>\n",
       "    <tr>\n",
       "      <th>6</th>\n",
       "      <td>TBMM Dışişleri Komisyonu Başkanı Kılıç, İsveç'...</td>\n",
       "      <td>TBMM Dışişleri Komisyonu Başkanı Kılıç, \"Bizim...</td>\n",
       "    </tr>\n",
       "    <tr>\n",
       "      <th>7</th>\n",
       "      <td>Traders express concern over low patronage of ...</td>\n",
       "      <td>News Ghana, Latest Updates and Breaking News o...</td>\n",
       "    </tr>\n",
       "    <tr>\n",
       "      <th>8</th>\n",
       "      <td>Ruto appoints ex-Transport CS Michael Kamau NH...</td>\n",
       "      <td>President William Ruto has appointed former Tr...</td>\n",
       "    </tr>\n",
       "    <tr>\n",
       "      <th>9</th>\n",
       "      <td>Japan warns of dangerous white Christmas as he...</td>\n",
       "      <td>December 23, 2022 5:36 PMThose in regions wher...</td>\n",
       "    </tr>\n",
       "  </tbody>\n",
       "</table>\n",
       "</div>"
      ],
      "text/plain": [
       "                                               title  \\\n",
       "0  Lenku hits at senator Seki for disparaging him...   \n",
       "1  Holiday bus tickets escaping Bangkok close to ...   \n",
       "2  Japan lawmaker says Taiwanese chipmaker TSMC i...   \n",
       "3  The Kremlin does not have information about th...   \n",
       "4  AHMEDNASIR calls out RUTO for excluding member...   \n",
       "5  Govt to conduct across country Covid response ...   \n",
       "6  TBMM Dışişleri Komisyonu Başkanı Kılıç, İsveç'...   \n",
       "7  Traders express concern over low patronage of ...   \n",
       "8  Ruto appoints ex-Transport CS Michael Kamau NH...   \n",
       "9  Japan warns of dangerous white Christmas as he...   \n",
       "\n",
       "                                         description  \n",
       "0  But Seki says the governor will have to toe th...  \n",
       "1  More than 90% of bus tickets heading out of Ba...  \n",
       "2  December 23, 2022 5:40 PMThe Taiwanese company...  \n",
       "3  The site operates with the financial support o...  \n",
       "4  Friday, December 23, 2022-Renowned Nairobi law...  \n",
       "5  The Union Ministry of Health advised States on...  \n",
       "6  TBMM Dışişleri Komisyonu Başkanı Kılıç, \"Bizim...  \n",
       "7  News Ghana, Latest Updates and Breaking News o...  \n",
       "8  President William Ruto has appointed former Tr...  \n",
       "9  December 23, 2022 5:36 PMThose in regions wher...  "
      ]
     },
     "execution_count": 90,
     "metadata": {},
     "output_type": "execute_result"
    }
   ],
   "source": [
    "df"
   ]
  },
  {
   "cell_type": "code",
   "execution_count": 91,
   "id": "777df3a6",
   "metadata": {},
   "outputs": [
    {
     "data": {
      "text/plain": [
       "array(['Lenku hits at senator Seki for disparaging him in hotels',\n",
       "       'But Seki says the governor will have to toe the line or face the Senate to answer hard questions'],\n",
       "      dtype=object)"
      ]
     },
     "execution_count": 91,
     "metadata": {},
     "output_type": "execute_result"
    }
   ],
   "source": [
    "df.iloc[0].values"
   ]
  },
  {
   "cell_type": "code",
   "execution_count": 92,
   "id": "6b66f32c",
   "metadata": {},
   "outputs": [],
   "source": [
    "from vaderSentiment.vaderSentiment import SentimentIntensityAnalyzer"
   ]
  },
  {
   "cell_type": "code",
   "execution_count": 93,
   "id": "739bb1da",
   "metadata": {},
   "outputs": [],
   "source": [
    "analyzer=SentimentIntensityAnalyzer()"
   ]
  },
  {
   "cell_type": "code",
   "execution_count": 94,
   "id": "c09ff48f",
   "metadata": {},
   "outputs": [],
   "source": [
    "negative=[]\n",
    "positive=[]\n",
    "neutral=[]"
   ]
  },
  {
   "cell_type": "code",
   "execution_count": 95,
   "id": "47a2f148",
   "metadata": {},
   "outputs": [],
   "source": [
    "cnt=0\n",
    "for i in range(df.shape[0]):\n",
    "    title=df.iloc[i,0]\n",
    "    description=df.iloc[i,1]\n",
    "    title_analyzed=analyzer.polarity_scores(title)\n",
    "    description_analyzed=analyzer.polarity_scores(description)\n",
    "    negative.append((title_analyzed['neg']+description_analyzed['neg'])/2)\n",
    "    positive.append((description_analyzed['pos']+title_analyzed['pos'])/2)\n",
    "    neutral.append((description_analyzed['neu']+title_analyzed['neu'])/2)\n",
    "#     print(title_analyzed)\n",
    "#     print(description_analyzed)\n",
    "    cnt+=2\n"
   ]
  },
  {
   "cell_type": "code",
   "execution_count": 96,
   "id": "d9d05221",
   "metadata": {},
   "outputs": [
    {
     "data": {
      "text/plain": [
       "20"
      ]
     },
     "execution_count": 96,
     "metadata": {},
     "output_type": "execute_result"
    }
   ],
   "source": [
    "cnt"
   ]
  },
  {
   "cell_type": "code",
   "execution_count": 97,
   "id": "20bacb5d",
   "metadata": {},
   "outputs": [
    {
     "data": {
      "text/plain": [
       "[0.17200000000000001,\n",
       " 0.006,\n",
       " 0.0,\n",
       " 0.0,\n",
       " 0.026,\n",
       " 0.1015,\n",
       " 0.0,\n",
       " 0.11549999999999999,\n",
       " 0.0,\n",
       " 0.18]"
      ]
     },
     "execution_count": 97,
     "metadata": {},
     "output_type": "execute_result"
    }
   ],
   "source": [
    "negative"
   ]
  },
  {
   "cell_type": "code",
   "execution_count": 98,
   "id": "218da402",
   "metadata": {},
   "outputs": [
    {
     "data": {
      "text/plain": [
       "[0.0, 0.2215, 0.0, 0.0235, 0.0255, 0.0705, 0.0, 0.036, 0.0, 0.0]"
      ]
     },
     "execution_count": 98,
     "metadata": {},
     "output_type": "execute_result"
    }
   ],
   "source": [
    "positive"
   ]
  },
  {
   "cell_type": "code",
   "execution_count": 99,
   "id": "fe2a9345",
   "metadata": {},
   "outputs": [
    {
     "data": {
      "text/plain": [
       "[0.8280000000000001,\n",
       " 0.772,\n",
       " 1.0,\n",
       " 0.9764999999999999,\n",
       " 0.9484999999999999,\n",
       " 0.8280000000000001,\n",
       " 1.0,\n",
       " 0.8485,\n",
       " 1.0,\n",
       " 0.8200000000000001]"
      ]
     },
     "execution_count": 99,
     "metadata": {},
     "output_type": "execute_result"
    }
   ],
   "source": [
    "neutral"
   ]
  },
  {
   "cell_type": "code",
   "execution_count": 100,
   "id": "d5bd2ae9",
   "metadata": {},
   "outputs": [],
   "source": [
    "name=\"sanskar singh bhardwaj\"\n",
    "name=name.split()"
   ]
  },
  {
   "cell_type": "code",
   "execution_count": 101,
   "id": "c944b3d0",
   "metadata": {},
   "outputs": [
    {
     "data": {
      "text/plain": [
       "['sanskar', 'singh', 'bhardwaj']"
      ]
     },
     "execution_count": 101,
     "metadata": {},
     "output_type": "execute_result"
    }
   ],
   "source": [
    "name"
   ]
  },
  {
   "cell_type": "code",
   "execution_count": 104,
   "id": "d19a624a",
   "metadata": {},
   "outputs": [],
   "source": [
    "name=\"%20\".join(name)"
   ]
  },
  {
   "cell_type": "code",
   "execution_count": 105,
   "id": "1f3bb82d",
   "metadata": {},
   "outputs": [
    {
     "data": {
      "text/plain": [
       "'sanskar%20singh%20bhardwaj'"
      ]
     },
     "execution_count": 105,
     "metadata": {},
     "output_type": "execute_result"
    }
   ],
   "source": [
    "name"
   ]
  },
  {
   "cell_type": "code",
   "execution_count": 106,
   "id": "a92a13d7",
   "metadata": {},
   "outputs": [],
   "source": [
    "name=\"sanskar\""
   ]
  },
  {
   "cell_type": "code",
   "execution_count": 107,
   "id": "998472da",
   "metadata": {},
   "outputs": [
    {
     "data": {
      "text/plain": [
       "['sanskar']"
      ]
     },
     "execution_count": 107,
     "metadata": {},
     "output_type": "execute_result"
    }
   ],
   "source": [
    "name.split()"
   ]
  },
  {
   "cell_type": "code",
   "execution_count": 130,
   "id": "587a4b4d",
   "metadata": {},
   "outputs": [],
   "source": [
    "name=\"elon musk\"\n",
    "name=name.split()\n",
    "name=\"%20\".join(name)\n",
    "name=\"&q=\"+name\n",
    "url=\"https://newsdata.io/api/1/news?apikey=pub_149138beee42533dfe0f2314f6cdf41e14915&language=en\"\n",
    "url=url+name"
   ]
  },
  {
   "cell_type": "code",
   "execution_count": 131,
   "id": "da121af9",
   "metadata": {},
   "outputs": [
    {
     "data": {
      "text/plain": [
       "'https://newsdata.io/api/1/news?apikey=pub_149138beee42533dfe0f2314f6cdf41e14915&language=en&q=elon%20musk'"
      ]
     },
     "execution_count": 131,
     "metadata": {},
     "output_type": "execute_result"
    }
   ],
   "source": [
    "url"
   ]
  },
  {
   "cell_type": "code",
   "execution_count": 132,
   "id": "72ca3c91",
   "metadata": {},
   "outputs": [],
   "source": [
    "res=requests.get(\"https://newsdata.io/api/1/news?apikey=pub_149138beee42533dfe0f2314f6cdf41e14915&language=en&q=sanskar%20singh%20bhardwaj\")"
   ]
  },
  {
   "cell_type": "code",
   "execution_count": 133,
   "id": "81c9036d",
   "metadata": {},
   "outputs": [
    {
     "data": {
      "text/plain": [
       "<Response [200]>"
      ]
     },
     "execution_count": 133,
     "metadata": {},
     "output_type": "execute_result"
    }
   ],
   "source": [
    "res"
   ]
  },
  {
   "cell_type": "code",
   "execution_count": 134,
   "id": "3122bdf0",
   "metadata": {},
   "outputs": [],
   "source": [
    "xd=pd.DataFrame(res.json()['results'])"
   ]
  },
  {
   "cell_type": "code",
   "execution_count": 135,
   "id": "20dc0e1b",
   "metadata": {},
   "outputs": [
    {
     "data": {
      "text/plain": [
       "(0, 0)"
      ]
     },
     "execution_count": 135,
     "metadata": {},
     "output_type": "execute_result"
    }
   ],
   "source": [
    "xd.shape"
   ]
  },
  {
   "cell_type": "code",
   "execution_count": 124,
   "id": "0d3f4a1f",
   "metadata": {},
   "outputs": [],
   "source": [
    "neg_per=sum(negative)"
   ]
  },
  {
   "cell_type": "code",
   "execution_count": 125,
   "id": "a55cd656",
   "metadata": {},
   "outputs": [
    {
     "data": {
      "text/plain": [
       "0.601"
      ]
     },
     "execution_count": 125,
     "metadata": {},
     "output_type": "execute_result"
    }
   ],
   "source": [
    "neg_per"
   ]
  },
  {
   "cell_type": "code",
   "execution_count": 126,
   "id": "00a51dba",
   "metadata": {},
   "outputs": [],
   "source": [
    "pos_per=sum(positive)"
   ]
  },
  {
   "cell_type": "code",
   "execution_count": 127,
   "id": "075a0dbe",
   "metadata": {},
   "outputs": [
    {
     "data": {
      "text/plain": [
       "0.377"
      ]
     },
     "execution_count": 127,
     "metadata": {},
     "output_type": "execute_result"
    }
   ],
   "source": [
    "pos_per"
   ]
  },
  {
   "cell_type": "code",
   "execution_count": 128,
   "id": "ee616255",
   "metadata": {},
   "outputs": [],
   "source": [
    "new_per=sum(neutral)"
   ]
  },
  {
   "cell_type": "code",
   "execution_count": 129,
   "id": "01b7c553",
   "metadata": {},
   "outputs": [
    {
     "data": {
      "text/plain": [
       "9.021500000000001"
      ]
     },
     "execution_count": 129,
     "metadata": {},
     "output_type": "execute_result"
    }
   ],
   "source": [
    "new_per"
   ]
  },
  {
   "cell_type": "code",
   "execution_count": null,
   "id": "010f35fc",
   "metadata": {},
   "outputs": [],
   "source": []
  }
 ],
 "metadata": {
  "kernelspec": {
   "display_name": "Python 3 (ipykernel)",
   "language": "python",
   "name": "python3"
  },
  "language_info": {
   "codemirror_mode": {
    "name": "ipython",
    "version": 3
   },
   "file_extension": ".py",
   "mimetype": "text/x-python",
   "name": "python",
   "nbconvert_exporter": "python",
   "pygments_lexer": "ipython3",
   "version": "3.10.2"
  }
 },
 "nbformat": 4,
 "nbformat_minor": 5
}
